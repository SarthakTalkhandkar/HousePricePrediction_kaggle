{
 "cells": [
  {
   "cell_type": "code",
   "execution_count": 12,
   "id": "91ef33f9",
   "metadata": {},
   "outputs": [],
   "source": [
    "import pandas as pd\n",
    "import numpy as np\n",
    "\n",
    "# Load datasets\n",
    "train_df = pd.read_csv('D:/HousePricePredict/data/raw/train.csv')\n",
    "test_df = pd.read_csv('D:/HousePricePredict/data/raw/test.csv')\n",
    "\n",
    "# Fill 'None' for categorical features with lots of missing values (applies to BOTH train and test)\n",
    "fill_none_cols = ['PoolQC', 'Alley', 'Fence', 'MiscFeature']\n",
    "for col in fill_none_cols:\n",
    "    train_df[col] = train_df[col].fillna('None')\n",
    "    test_df[col] = test_df[col].fillna('None')\n",
    "   \n",
    "# Fill numerical missing values ('LotFrontage') with median (BOTH train and test)\n",
    "for df in [train_df, test_df]:\n",
    "    df['LotFrontage'] = df['LotFrontage'].fillna(df['LotFrontage'].median())\n",
    "\n",
    "# Fill other categorical missing values where 'None' is meaningful (BOTH train and test)\n",
    "cat_fill_none = ['GarageType']\n",
    "for col in cat_fill_none:\n",
    "    train_df[col] = train_df[col].fillna('None')\n",
    "    test_df[col] = test_df[col].fillna('None')\n",
    "\n",
    "# Convert MSSubClass to string (BOTH train and test)\n",
    "train_df['MSSubClass'] = train_df['MSSubClass'].astype(str)\n",
    "test_df['MSSubClass'] = test_df['MSSubClass'].astype(str)\n",
    "\n",
    "# Remove duplicates\n",
    "train_df = train_df.drop_duplicates()\n",
    "test_df = test_df.drop_duplicates()\n",
    "\n",
    "# Save cleaned files\n",
    "train_df.to_csv('D:/HousePricePredict/data/processed/train_clean.csv', index=False)\n",
    "test_df.to_csv('D:/HousePricePredict/data/processed/test_clean.csv', index=False)\n"
   ]
  }
 ],
 "metadata": {
  "kernelspec": {
   "display_name": ".venv",
   "language": "python",
   "name": "python3"
  },
  "language_info": {
   "codemirror_mode": {
    "name": "ipython",
    "version": 3
   },
   "file_extension": ".py",
   "mimetype": "text/x-python",
   "name": "python",
   "nbconvert_exporter": "python",
   "pygments_lexer": "ipython3",
   "version": "3.13.2"
  }
 },
 "nbformat": 4,
 "nbformat_minor": 5
}
